{
 "cells": [
  {
   "cell_type": "code",
   "execution_count": 1,
   "id": "0ef7f705-9357-42ac-b998-98dfb7227474",
   "metadata": {},
   "outputs": [],
   "source": [
    "import numpy as np\n",
    "import pandas as pd"
   ]
  },
  {
   "cell_type": "code",
   "execution_count": 2,
   "id": "6a7870a3-b176-4247-9487-0e8b950247c6",
   "metadata": {},
   "outputs": [],
   "source": [
    "df = pd.read_csv(r'C:\\Users\\win10\\Downloads\\orders.csv')"
   ]
  },
  {
   "cell_type": "code",
   "execution_count": 5,
   "id": "244ad712-dad6-4393-9843-0f79c9be2404",
   "metadata": {},
   "outputs": [
    {
     "data": {
      "text/html": [
       "<div>\n",
       "<style scoped>\n",
       "    .dataframe tbody tr th:only-of-type {\n",
       "        vertical-align: middle;\n",
       "    }\n",
       "\n",
       "    .dataframe tbody tr th {\n",
       "        vertical-align: top;\n",
       "    }\n",
       "\n",
       "    .dataframe thead th {\n",
       "        text-align: right;\n",
       "    }\n",
       "</style>\n",
       "<table border=\"1\" class=\"dataframe\">\n",
       "  <thead>\n",
       "    <tr style=\"text-align: right;\">\n",
       "      <th></th>\n",
       "      <th>Order Id</th>\n",
       "      <th>Order Date</th>\n",
       "      <th>Ship Mode</th>\n",
       "      <th>Segment</th>\n",
       "      <th>Country</th>\n",
       "      <th>City</th>\n",
       "      <th>State</th>\n",
       "      <th>Postal Code</th>\n",
       "      <th>Region</th>\n",
       "      <th>Category</th>\n",
       "      <th>Sub Category</th>\n",
       "      <th>Product Id</th>\n",
       "      <th>cost price</th>\n",
       "      <th>List Price</th>\n",
       "      <th>Quantity</th>\n",
       "      <th>Discount Percent</th>\n",
       "    </tr>\n",
       "  </thead>\n",
       "  <tbody>\n",
       "    <tr>\n",
       "      <th>0</th>\n",
       "      <td>1</td>\n",
       "      <td>01-03-2023</td>\n",
       "      <td>Second Class</td>\n",
       "      <td>Consumer</td>\n",
       "      <td>United States</td>\n",
       "      <td>Henderson</td>\n",
       "      <td>Kentucky</td>\n",
       "      <td>42420</td>\n",
       "      <td>South</td>\n",
       "      <td>Furniture</td>\n",
       "      <td>Bookcases</td>\n",
       "      <td>FUR-BO-10001798</td>\n",
       "      <td>240</td>\n",
       "      <td>260</td>\n",
       "      <td>2</td>\n",
       "      <td>2</td>\n",
       "    </tr>\n",
       "    <tr>\n",
       "      <th>1</th>\n",
       "      <td>2</td>\n",
       "      <td>15-08-2023</td>\n",
       "      <td>Second Class</td>\n",
       "      <td>Consumer.</td>\n",
       "      <td>United States</td>\n",
       "      <td>Henderson</td>\n",
       "      <td>Kentucky</td>\n",
       "      <td>42420</td>\n",
       "      <td>South</td>\n",
       "      <td>Furniture</td>\n",
       "      <td>Chairs</td>\n",
       "      <td>FUR-CH-10000454</td>\n",
       "      <td>600</td>\n",
       "      <td>730</td>\n",
       "      <td>3</td>\n",
       "      <td>3</td>\n",
       "    </tr>\n",
       "    <tr>\n",
       "      <th>2</th>\n",
       "      <td>3</td>\n",
       "      <td>10-01-2023</td>\n",
       "      <td>Second Class</td>\n",
       "      <td>Consumer.</td>\n",
       "      <td>United States</td>\n",
       "      <td>Los Angeles</td>\n",
       "      <td>California</td>\n",
       "      <td>90036</td>\n",
       "      <td>West</td>\n",
       "      <td>Office Supplies</td>\n",
       "      <td>Labels</td>\n",
       "      <td>OFF-LA-10000240</td>\n",
       "      <td>10</td>\n",
       "      <td>10</td>\n",
       "      <td>2</td>\n",
       "      <td>5</td>\n",
       "    </tr>\n",
       "    <tr>\n",
       "      <th>3</th>\n",
       "      <td>4</td>\n",
       "      <td>18-06-2022</td>\n",
       "      <td>Standard Class</td>\n",
       "      <td>Consumer.</td>\n",
       "      <td>United States</td>\n",
       "      <td>Fort Lauderdale</td>\n",
       "      <td>Florida</td>\n",
       "      <td>33311</td>\n",
       "      <td>South</td>\n",
       "      <td>Furniture</td>\n",
       "      <td>Tables</td>\n",
       "      <td>FUR-TA-10000577</td>\n",
       "      <td>780</td>\n",
       "      <td>960</td>\n",
       "      <td>5</td>\n",
       "      <td>2</td>\n",
       "    </tr>\n",
       "    <tr>\n",
       "      <th>4</th>\n",
       "      <td>5</td>\n",
       "      <td>13-07-2022</td>\n",
       "      <td>Standard Class</td>\n",
       "      <td>Consumer.</td>\n",
       "      <td>United States</td>\n",
       "      <td>Fort Lauderdale</td>\n",
       "      <td>Florida</td>\n",
       "      <td>33311</td>\n",
       "      <td>South</td>\n",
       "      <td>Office Supplies</td>\n",
       "      <td>Storage</td>\n",
       "      <td>OFF-ST-10000760</td>\n",
       "      <td>20</td>\n",
       "      <td>20</td>\n",
       "      <td>2</td>\n",
       "      <td>5</td>\n",
       "    </tr>\n",
       "  </tbody>\n",
       "</table>\n",
       "</div>"
      ],
      "text/plain": [
       "   Order Id  Order Date       Ship Mode    Segment        Country  \\\n",
       "0         1  01-03-2023    Second Class   Consumer  United States   \n",
       "1         2  15-08-2023    Second Class  Consumer.  United States   \n",
       "2         3  10-01-2023    Second Class  Consumer.  United States   \n",
       "3         4  18-06-2022  Standard Class  Consumer.  United States   \n",
       "4         5  13-07-2022  Standard Class  Consumer.  United States   \n",
       "\n",
       "              City       State  Postal Code Region         Category  \\\n",
       "0        Henderson    Kentucky        42420  South        Furniture   \n",
       "1        Henderson    Kentucky        42420  South        Furniture   \n",
       "2      Los Angeles  California        90036   West  Office Supplies   \n",
       "3  Fort Lauderdale     Florida        33311  South        Furniture   \n",
       "4  Fort Lauderdale     Florida        33311  South  Office Supplies   \n",
       "\n",
       "  Sub Category       Product Id  cost price  List Price  Quantity  \\\n",
       "0    Bookcases  FUR-BO-10001798         240         260         2   \n",
       "1       Chairs  FUR-CH-10000454         600         730         3   \n",
       "2       Labels  OFF-LA-10000240          10          10         2   \n",
       "3       Tables  FUR-TA-10000577         780         960         5   \n",
       "4      Storage  OFF-ST-10000760          20          20         2   \n",
       "\n",
       "   Discount Percent  \n",
       "0                 2  \n",
       "1                 3  \n",
       "2                 5  \n",
       "3                 2  \n",
       "4                 5  "
      ]
     },
     "execution_count": 5,
     "metadata": {},
     "output_type": "execute_result"
    }
   ],
   "source": [
    "df.head()"
   ]
  },
  {
   "cell_type": "code",
   "execution_count": 13,
   "id": "f810a882-d1e8-4837-9816-9feeacf5cfef",
   "metadata": {},
   "outputs": [
    {
     "data": {
      "text/plain": [
       "(9994, 16)"
      ]
     },
     "execution_count": 13,
     "metadata": {},
     "output_type": "execute_result"
    }
   ],
   "source": [
    "df.shape"
   ]
  },
  {
   "cell_type": "code",
   "execution_count": 15,
   "id": "5d9321be-fa14-4c6a-ae59-88dbb010b8e9",
   "metadata": {},
   "outputs": [
    {
     "data": {
      "text/plain": [
       "Order Id            0\n",
       "Order Date          0\n",
       "Ship Mode           1\n",
       "Segment             0\n",
       "Country             0\n",
       "City                0\n",
       "State               0\n",
       "Postal Code         0\n",
       "Region              0\n",
       "Category            0\n",
       "Sub Category        0\n",
       "Product Id          0\n",
       "cost price          0\n",
       "List Price          0\n",
       "Quantity            0\n",
       "Discount Percent    0\n",
       "dtype: int64"
      ]
     },
     "execution_count": 15,
     "metadata": {},
     "output_type": "execute_result"
    }
   ],
   "source": [
    "df.isnull().sum()"
   ]
  },
  {
   "cell_type": "code",
   "execution_count": 17,
   "id": "3d821ed2-1f00-4adb-9577-f7985caaeb98",
   "metadata": {},
   "outputs": [],
   "source": [
    "df.dropna(inplace= True)"
   ]
  },
  {
   "cell_type": "code",
   "execution_count": 19,
   "id": "ddfcb209-a1f6-4e7a-abf6-a6c1568a4a6c",
   "metadata": {},
   "outputs": [
    {
     "data": {
      "text/plain": [
       "Order Id            0\n",
       "Order Date          0\n",
       "Ship Mode           0\n",
       "Segment             0\n",
       "Country             0\n",
       "City                0\n",
       "State               0\n",
       "Postal Code         0\n",
       "Region              0\n",
       "Category            0\n",
       "Sub Category        0\n",
       "Product Id          0\n",
       "cost price          0\n",
       "List Price          0\n",
       "Quantity            0\n",
       "Discount Percent    0\n",
       "dtype: int64"
      ]
     },
     "execution_count": 19,
     "metadata": {},
     "output_type": "execute_result"
    }
   ],
   "source": [
    "df.isnull().sum()"
   ]
  },
  {
   "cell_type": "code",
   "execution_count": 23,
   "id": "f2958371-3da1-4b2b-8516-bf8744c472a8",
   "metadata": {},
   "outputs": [
    {
     "data": {
      "text/plain": [
       "0"
      ]
     },
     "execution_count": 23,
     "metadata": {},
     "output_type": "execute_result"
    }
   ],
   "source": [
    "df.duplicated().sum()"
   ]
  },
  {
   "cell_type": "code",
   "execution_count": 25,
   "id": "1ee6a9d6-8707-4ab9-b1e8-2f80fc48a5d9",
   "metadata": {},
   "outputs": [
    {
     "data": {
      "text/plain": [
       "9993"
      ]
     },
     "execution_count": 25,
     "metadata": {},
     "output_type": "execute_result"
    }
   ],
   "source": [
    "df['Order Id'].nunique()"
   ]
  },
  {
   "cell_type": "code",
   "execution_count": 38,
   "id": "5a0f65ad-6d84-431c-aa1d-7e2152d5c863",
   "metadata": {},
   "outputs": [
    {
     "data": {
      "text/plain": [
       "Index(['Order Id', 'Order Date', 'Ship Mode', 'Segment', 'Country', 'City',\n",
       "       'State', 'Postal Code', 'Region', 'Category', 'Sub Category',\n",
       "       'Product Id', 'cost price', 'List Price', 'Quantity',\n",
       "       'Discount Percent'],\n",
       "      dtype='object')"
      ]
     },
     "execution_count": 38,
     "metadata": {},
     "output_type": "execute_result"
    }
   ],
   "source": [
    "df.columns "
   ]
  },
  {
   "cell_type": "code",
   "execution_count": 40,
   "id": "c90ee88c-25e8-4c0d-9c29-5c2c5789c5f9",
   "metadata": {},
   "outputs": [],
   "source": [
    "## column names have uppercase letter and spaces.\n",
    "\n",
    "df.columns = df.columns.str.lower() \n",
    "df.columns = df.columns.str.replace(\" \",\"_\")"
   ]
  },
  {
   "cell_type": "code",
   "execution_count": 46,
   "id": "f2d1ab65-72bc-4a24-9121-1d966e28b71c",
   "metadata": {},
   "outputs": [
    {
     "data": {
      "text/plain": [
       "ship_mode\n",
       "Standard Class    5962\n",
       "Second Class      1895\n",
       "First Class       1513\n",
       "Same Day           543\n",
       "Second              50\n",
       "First               25\n",
       "Not Available        4\n",
       "unknown              1\n",
       "Name: count, dtype: int64"
      ]
     },
     "execution_count": 46,
     "metadata": {},
     "output_type": "execute_result"
    }
   ],
   "source": [
    "df['ship_mode'].value_counts()"
   ]
  },
  {
   "cell_type": "code",
   "execution_count": 92,
   "id": "a6c1e682-1c30-4563-bf36-8be773805521",
   "metadata": {},
   "outputs": [],
   "source": [
    "### replacing Not available and unknown with mode of that coulumn.\n",
    "\n",
    "df['ship_mode'] = np.where(df['ship_mode']=='Not Available',df['ship_mode'].mode()\n",
    "                           ,np.where(df['ship_mode']=='unknown',df['ship_mode'].mode(),df['ship_mode']))"
   ]
  },
  {
   "cell_type": "code",
   "execution_count": 108,
   "id": "ea8c861d-5def-4240-bbd1-faf1bb5332a8",
   "metadata": {},
   "outputs": [],
   "source": [
    "## replacing 'second' with second class and 'first' with first class.\n",
    "\n",
    "df['ship_mode'] = np.where(df['ship_mode']=='Second','Second Class',np.where(df['ship_mode']=='First','First Class',df['ship_mode']))"
   ]
  },
  {
   "cell_type": "code",
   "execution_count": 114,
   "id": "409dbe91-6fb2-43e1-91e3-96c42229a523",
   "metadata": {},
   "outputs": [
    {
     "data": {
      "text/plain": [
       "segment\n",
       "Consumer       5168\n",
       "Corporate      2989\n",
       "Home Office    1783\n",
       "corport          29\n",
       "consumar         13\n",
       "Consumer.        11\n",
       "Name: count, dtype: int64"
      ]
     },
     "execution_count": 114,
     "metadata": {},
     "output_type": "execute_result"
    }
   ],
   "source": [
    "df['segment'].value_counts()"
   ]
  },
  {
   "cell_type": "code",
   "execution_count": 136,
   "id": "d668007a-d038-4b7c-8692-bd856d32ecab",
   "metadata": {},
   "outputs": [],
   "source": [
    "### replacing 'consumar' & 'Consumer.' with Consumer\n",
    "\n",
    "df['segment'] = np.where((df['segment']=='consumar') | (df['segment']=='Consumer.'),'Consumer',np.where(df['segment']=='corport','Corporate',df['segment']))"
   ]
  },
  {
   "cell_type": "code",
   "execution_count": 146,
   "id": "a9ba72ce-1599-466f-bc44-a6675e877209",
   "metadata": {},
   "outputs": [
    {
     "data": {
      "text/plain": [
       "country\n",
       "United States    9941\n",
       "US                 52\n",
       "Name: count, dtype: int64"
      ]
     },
     "execution_count": 146,
     "metadata": {},
     "output_type": "execute_result"
    }
   ],
   "source": [
    "df['country'].value_counts()"
   ]
  },
  {
   "cell_type": "code",
   "execution_count": 150,
   "id": "bff21e7d-9288-4382-90b5-ed5678ec94e5",
   "metadata": {},
   "outputs": [],
   "source": [
    "# replacing US with United States\n",
    "\n",
    "df['country'] = np.where(df['country']=='US','United States',df['country'])"
   ]
  },
  {
   "cell_type": "code",
   "execution_count": 160,
   "id": "c955f731-d237-4900-a36e-b5ff59094666",
   "metadata": {},
   "outputs": [
    {
     "data": {
      "text/plain": [
       "array(['Henderson', 'Los Angeles', 'Fort Lauderdale', 'Concord',\n",
       "       'Seattle', 'Fort Worth', 'Madison', 'West Jordan', 'San Francisco',\n",
       "       'Fremont', 'Philadelphia', 'Orem', 'Houston', 'Richardson',\n",
       "       'Naperville', 'Melbourne', 'Eagan', 'Westland', 'Dover',\n",
       "       'New Albany', 'New York City', 'Troy', 'Chicago', 'Gilbert',\n",
       "       'Springfield', 'Jackson', 'Memphis', 'Decatur', 'Durham',\n",
       "       'Columbia', 'Rochester', 'Minneapolis', 'Portland', 'Saint Paul',\n",
       "       'Aurora', 'Charlotte', 'Orland Park', 'Urbandale', 'Columbus',\n",
       "       'Wilmington', 'Bloomington', 'Phoenix', 'Roseville',\n",
       "       'Independence', 'Pasadena', 'Newark', 'Franklin', 'Scottsdale',\n",
       "       'San Jose', 'Edmond', 'Carlsbad', 'San Antonio', 'Monroe',\n",
       "       'Fairfield', 'Grand Prairie', 'Redlands', 'Hamilton', 'Westfield',\n",
       "       'Akron', 'Denver', 'Dallas', 'Whittier', 'Saginaw', 'Medina',\n",
       "       'Dublin', 'Detroit', 'Tampa', 'Santa Clara', 'Lakeville',\n",
       "       'San Diego', 'Brentwood', 'Chapel Hill', 'Morristown',\n",
       "       'Cincinnati', 'Inglewood', 'Tamarac', 'Colorado Springs',\n",
       "       'Belleville', 'Taylor', 'Lakewood', 'Arlington', 'Arvada',\n",
       "       'Hackensack', 'Saint Petersburg', 'Long Beach', 'Hesperia',\n",
       "       'Murfreesboro', 'Layton', 'Austin', 'Lowell', 'Manchester',\n",
       "       'Harlingen', 'Tucson', 'Quincy', 'Pembroke Pines', 'Des Moines',\n",
       "       'Peoria', 'Las Vegas', 'Warwick', 'Miami', 'Huntington Beach',\n",
       "       'Richmond', 'Louisville', 'Lawrence', 'Canton', 'New Rochelle',\n",
       "       'Gastonia', 'Jacksonville', 'Auburn', 'Norman', 'Park Ridge',\n",
       "       'Amarillo', 'Lindenhurst', 'Huntsville', 'Fayetteville',\n",
       "       'Costa Mesa', 'Parker', 'Atlanta', 'Gladstone', 'Great Falls',\n",
       "       'Lakeland', 'Montgomery', 'Mesa', 'Green Bay', 'Anaheim',\n",
       "       'Marysville', 'Salem', 'Laredo', 'Grove City', 'Dearborn',\n",
       "       'Warner Robins', 'Vallejo', 'Mission Viejo', 'Rochester Hills',\n",
       "       'Plainfield', 'Sierra Vista', 'Vancouver', 'Cleveland', 'Tyler',\n",
       "       'Burlington', 'Waynesboro', 'Chester', 'Cary', 'Palm Coast',\n",
       "       'Mount Vernon', 'Hialeah', 'Oceanside', 'Evanston', 'Trenton',\n",
       "       'Cottage Grove', 'Bossier City', 'Lancaster', 'Asheville',\n",
       "       'Lake Elsinore', 'Omaha', 'Edmonds', 'Santa Ana', 'Milwaukee',\n",
       "       'Florence', 'Lorain', 'Linden', 'Salinas', 'New Brunswick',\n",
       "       'Garland', 'Norwich', 'Alexandria', 'Toledo', 'Farmington',\n",
       "       'Riverside', 'Torrance', 'Round Rock', 'Boca Raton',\n",
       "       'Virginia Beach', 'Murrieta', 'Olympia', 'Washington',\n",
       "       'Jefferson City', 'Saint Peters', 'Rockford', 'Brownsville',\n",
       "       'Yonkers', 'Oakland', 'Clinton', 'Encinitas', 'Roswell',\n",
       "       'Jonesboro', 'Antioch', 'Homestead', 'La Porte', 'Lansing',\n",
       "       'Cuyahoga Falls', 'Reno', 'Harrisonburg', 'Escondido', 'Royal Oak',\n",
       "       'Rockville', 'Coral Springs', 'Buffalo', 'Boynton Beach',\n",
       "       'Gulfport', 'Fresno', 'Greenville', 'Macon', 'Cedar Rapids',\n",
       "       'Providence', 'Pueblo', 'Deltona', 'Murray', 'Middletown',\n",
       "       'Freeport', 'Pico Rivera', 'Provo', 'Pleasant Grove', 'Smyrna',\n",
       "       'Parma', 'Mobile', 'New Bedford', 'Irving', 'Vineland', 'Glendale',\n",
       "       'Niagara Falls', 'Thomasville', 'Westminster', 'Coppell', 'Pomona',\n",
       "       'North Las Vegas', 'Allentown', 'Tempe', 'Laguna Niguel',\n",
       "       'Bridgeton', 'Everett', 'Watertown', 'Appleton', 'Bellevue',\n",
       "       'Allen', 'El Paso', 'Grapevine', 'Carrollton', 'Kent', 'Lafayette',\n",
       "       'Tigard', 'Skokie', 'Plano', 'Suffolk', 'Indianapolis', 'Bayonne',\n",
       "       'Greensboro', 'Baltimore', 'Kenosha', 'Olathe', 'Tulsa', 'Redmond',\n",
       "       'Raleigh', 'Muskogee', 'Meriden', 'Bowling Green', 'South Bend',\n",
       "       'Bristol', 'Spokane', 'Keller', 'Port Orange', 'Medford',\n",
       "       'Charlottesville', 'Missoula', 'Apopka', 'Reading', 'Broomfield',\n",
       "       'Paterson', 'Oklahoma City', 'Chesapeake', 'Lubbock',\n",
       "       'Johnson City', 'San Bernardino', 'Leominster', 'Bozeman',\n",
       "       'Perth Amboy', 'Ontario', 'Rancho Cucamonga', 'Moorhead',\n",
       "       'Mesquite', 'Stockton', 'Ormond Beach', 'Sunnyvale', 'York',\n",
       "       'College Station', 'Saint Louis', 'Manteca', 'San Angelo',\n",
       "       'Salt Lake City', 'Knoxville', 'Little Rock', 'Lincoln Park',\n",
       "       'Marion', 'Littleton', 'Bangor', 'Southaven', 'New Castle',\n",
       "       'Midland', 'Sioux Falls', 'Fort Collins', 'Clarksville',\n",
       "       'Sacramento', 'Thousand Oaks', 'Malden', 'Holyoke', 'Albuquerque',\n",
       "       'Sparks', 'Coachella', 'Elmhurst', 'Passaic', 'North Charleston',\n",
       "       'Newport News', 'Jamestown', 'Mishawaka', 'La Quinta',\n",
       "       'Tallahassee', 'Nashville', 'Bellingham', 'Woodstock',\n",
       "       'Haltom City', 'Wheeling', 'Summerville', 'Hot Springs',\n",
       "       'Englewood', 'Las Cruces', 'Hoover', 'Frisco', 'Vacaville',\n",
       "       'Waukesha', 'Bakersfield', 'Pompano Beach', 'Corpus Christi',\n",
       "       'Redondo Beach', 'Orlando', 'Orange', 'Lake Charles',\n",
       "       'Highland Park', 'Hempstead', 'Noblesville', 'Apple Valley',\n",
       "       'Mount Pleasant', 'Sterling Heights', 'Eau Claire', 'Pharr',\n",
       "       'Billings', 'Gresham', 'Chattanooga', 'Meridian', 'Bolingbrook',\n",
       "       'Maple Grove', 'Woodland', 'Missouri City', 'Pearland',\n",
       "       'San Mateo', 'Grand Rapids', 'Visalia', 'Overland Park',\n",
       "       'Temecula', 'Yucaipa', 'Revere', 'Conroe', 'Tinley Park',\n",
       "       'Dubuque', 'Dearborn Heights', 'Santa Fe', 'Hickory',\n",
       "       'Carol Stream', 'Saint Cloud', 'North Miami', 'Plantation',\n",
       "       'Port Saint Lucie', 'Rock Hill', 'Odessa', 'West Allis',\n",
       "       'Chula Vista', 'Manhattan', 'Altoona', 'Thornton', 'Champaign',\n",
       "       'Texarkana', 'Edinburg', 'Baytown', 'Greenwood', 'Woonsocket',\n",
       "       'Superior', 'Bedford', 'Covington', 'Broken Arrow', 'Miramar',\n",
       "       'Hollywood', 'Deer Park', 'Wichita', 'Mcallen', 'Iowa City',\n",
       "       'Boise', 'Cranston', 'Port Arthur', 'Citrus Heights', 'The Colony',\n",
       "       'Daytona Beach', 'Bullhead City', 'Portage', 'Fargo', 'Elkhart',\n",
       "       'San Gabriel', 'Margate', 'Sandy Springs', 'Mentor', 'Lawton',\n",
       "       'Hampton', 'Rome', 'La Crosse', 'Lewiston', 'Hattiesburg',\n",
       "       'Danville', 'Logan', 'Waterbury', 'Athens', 'Avondale', 'Marietta',\n",
       "       'Yuma', 'Wausau', 'Pasco', 'Oak Park', 'Pensacola', 'League City',\n",
       "       'Gaithersburg', 'Lehi', 'Tuscaloosa', 'Moreno Valley',\n",
       "       'Georgetown', 'Loveland', 'Chandler', 'Helena', 'Kirkwood', 'Waco',\n",
       "       'Frankfort', 'Bethlehem', 'Grand Island', 'Woodbury', 'Rogers',\n",
       "       'Clovis', 'Jupiter', 'Santa Barbara', 'Cedar Hill', 'Norfolk',\n",
       "       'Draper', 'Ann Arbor', 'La Mesa', 'Pocatello', 'Holland',\n",
       "       'Milford', 'Buffalo Grove', 'Lake Forest', 'Redding', 'Chico',\n",
       "       'Utica', 'Conway', 'Cheyenne', 'Owensboro', 'Caldwell', 'Kenner',\n",
       "       'Nashua', 'Bartlett', 'Redwood City', 'Lebanon', 'Santa Maria',\n",
       "       'Des Plaines', 'Longview', 'Hendersonville', 'Waterloo',\n",
       "       'Cambridge', 'Palatine', 'Beverly', 'Eugene', 'Oxnard', 'Renton',\n",
       "       'Glenview', 'Delray Beach', 'Commerce City', 'Texas City',\n",
       "       'Wilson', 'Rio Rancho', 'Goldsboro', 'Montebello', 'El Cajon',\n",
       "       'Beaumont', 'West Palm Beach', 'Abilene', 'Normal',\n",
       "       'Saint Charles', 'Camarillo', 'Hillsboro', 'Burbank', 'Modesto',\n",
       "       'Garden City', 'Atlantic City', 'Longmont', 'Davis', 'Morgan Hill',\n",
       "       'Clifton', 'Sheboygan', 'East Point', 'Rapid City', 'Andover',\n",
       "       'Kissimmee', 'Shelton', 'Danbury', 'Sanford', 'San Marcos',\n",
       "       'Greeley', 'Mansfield', 'Elyria', 'Twin Falls', 'Coral Gables',\n",
       "       'Romeoville', 'Marlborough', 'Laurel', 'Bryan', 'Pine Bluff',\n",
       "       'Aberdeen', 'Hagerstown', 'East Orange', 'Arlington Heights',\n",
       "       'Oswego', 'Coon Rapids', 'San Clemente', 'San Luis Obispo',\n",
       "       'Springdale', 'Lodi', 'Mason'], dtype=object)"
      ]
     },
     "execution_count": 160,
     "metadata": {},
     "output_type": "execute_result"
    }
   ],
   "source": [
    "df['city'].unique()"
   ]
  },
  {
   "cell_type": "code",
   "execution_count": 164,
   "id": "4d891b92-7486-4460-9f19-1c7894c4ae4e",
   "metadata": {},
   "outputs": [
    {
     "data": {
      "text/plain": [
       "state\n",
       "California              2001\n",
       "New York                1128\n",
       "Texas                    985\n",
       "Pennsylvania             587\n",
       "Washington               506\n",
       "Illinois                 492\n",
       "Ohio                     469\n",
       "Florida                  383\n",
       "Michigan                 255\n",
       "North Carolina           249\n",
       "Arizona                  224\n",
       "Virginia                 224\n",
       "Georgia                  184\n",
       "Colorado                 182\n",
       "Tennessee                182\n",
       "Indiana                  149\n",
       "Kentucky                 139\n",
       "Massachusetts            135\n",
       "New Jersey               130\n",
       "Oregon                   124\n",
       "Wisconsin                110\n",
       "Maryland                 105\n",
       "Delaware                  96\n",
       "Minnesota                 89\n",
       "Connecticut               82\n",
       "Oklahoma                  66\n",
       "Missouri                  66\n",
       "Alabama                   61\n",
       "Arkansas                  60\n",
       "Rhode Island              56\n",
       "Utah                      53\n",
       "Mississippi               53\n",
       "Louisiana                 42\n",
       "South Carolina            42\n",
       "Nevada                    39\n",
       "Nebraska                  38\n",
       "New Mexico                37\n",
       "Iowa                      30\n",
       "New Hampshire             27\n",
       "Kansas                    24\n",
       "Idaho                     21\n",
       "Montana                   15\n",
       "South Dakota              12\n",
       "Vermont                   11\n",
       "District of Columbia      10\n",
       "Maine                      8\n",
       "North Dakota               7\n",
       "West Virginia              4\n",
       "Wyoming                    1\n",
       "Name: count, dtype: int64"
      ]
     },
     "execution_count": 164,
     "metadata": {},
     "output_type": "execute_result"
    }
   ],
   "source": [
    "df['state'].value_counts()"
   ]
  },
  {
   "cell_type": "code",
   "execution_count": 170,
   "id": "fff2bb94-b912-40b3-87bc-b355a88fad21",
   "metadata": {},
   "outputs": [
    {
     "data": {
      "text/plain": [
       "region\n",
       "West       3197\n",
       "East       2848\n",
       "Central    2319\n",
       "South      1619\n",
       "w             6\n",
       "center        4\n",
       "Name: count, dtype: int64"
      ]
     },
     "execution_count": 170,
     "metadata": {},
     "output_type": "execute_result"
    }
   ],
   "source": [
    "df['region'].value_counts()"
   ]
  },
  {
   "cell_type": "code",
   "execution_count": 172,
   "id": "d2a704b9-7d77-4f1c-bd50-3fb905308d25",
   "metadata": {},
   "outputs": [],
   "source": [
    "# replacing W with west and ceter with central\n",
    "\n",
    "df['region'] = np.where(df['region']=='w','West',np.where(df['region']=='center','Central',df['region']))"
   ]
  },
  {
   "cell_type": "code",
   "execution_count": 178,
   "id": "e8332917-5a64-4a31-8977-1bcfacf819c2",
   "metadata": {},
   "outputs": [
    {
     "data": {
      "text/plain": [
       "category\n",
       "Office Supplies    6025\n",
       "Furniture          2121\n",
       "Technology         1847\n",
       "Name: count, dtype: int64"
      ]
     },
     "execution_count": 178,
     "metadata": {},
     "output_type": "execute_result"
    }
   ],
   "source": [
    "df['category'].value_counts()"
   ]
  },
  {
   "cell_type": "code",
   "execution_count": 196,
   "id": "b089001b-4c8d-496c-8427-65739489f561",
   "metadata": {},
   "outputs": [
    {
     "data": {
      "text/plain": [
       "['Accessories',\n",
       " 'Appliances',\n",
       " 'Art',\n",
       " 'Arts',\n",
       " 'Binders',\n",
       " 'Bookcases',\n",
       " 'Chairs',\n",
       " 'Copiers',\n",
       " 'Envelopes',\n",
       " 'Fasteners',\n",
       " 'Furnishings',\n",
       " 'Labels',\n",
       " 'Machines',\n",
       " 'Paper',\n",
       " 'Papers',\n",
       " 'Phones',\n",
       " 'Storage',\n",
       " 'Supplies',\n",
       " 'Tables']"
      ]
     },
     "execution_count": 196,
     "metadata": {},
     "output_type": "execute_result"
    }
   ],
   "source": [
    "sorted(list(df['sub_category'].unique()))"
   ]
  },
  {
   "cell_type": "code",
   "execution_count": 198,
   "id": "48ac8478-0af8-49db-9c3a-9b69ea5935a0",
   "metadata": {},
   "outputs": [],
   "source": [
    "# Art & Arts and Paper & papers have been categorized separately.\n",
    "\n",
    "df['sub_category'] = np.where(df['sub_category']=='Paper','Papers',np.where(df['sub_category']=='Art','Arts',df['sub_category']))"
   ]
  },
  {
   "cell_type": "code",
   "execution_count": 200,
   "id": "bfb19385-6cf7-4c57-a35b-7b7cd667ba64",
   "metadata": {},
   "outputs": [
    {
     "data": {
      "text/plain": [
       "sub_category\n",
       "Binders        1522\n",
       "Papers         1370\n",
       "Furnishings     957\n",
       "Phones          889\n",
       "Storage         846\n",
       "Arts            796\n",
       "Accessories     775\n",
       "Chairs          617\n",
       "Appliances      466\n",
       "Labels          364\n",
       "Tables          319\n",
       "Envelopes       254\n",
       "Bookcases       228\n",
       "Fasteners       217\n",
       "Supplies        190\n",
       "Machines        115\n",
       "Copiers          68\n",
       "Name: count, dtype: int64"
      ]
     },
     "execution_count": 200,
     "metadata": {},
     "output_type": "execute_result"
    }
   ],
   "source": [
    "df['sub_category'].value_counts()"
   ]
  },
  {
   "cell_type": "code",
   "execution_count": 212,
   "id": "e7753e64-6d52-4ed0-9e21-3c9d650686ac",
   "metadata": {},
   "outputs": [
    {
     "name": "stdout",
     "output_type": "stream",
     "text": [
      "<class 'pandas.core.frame.DataFrame'>\n",
      "Index: 9993 entries, 0 to 9993\n",
      "Data columns (total 16 columns):\n",
      " #   Column            Non-Null Count  Dtype \n",
      "---  ------            --------------  ----- \n",
      " 0   order_id          9993 non-null   int64 \n",
      " 1   order_date        9993 non-null   object\n",
      " 2   ship_mode         9993 non-null   object\n",
      " 3   segment           9993 non-null   object\n",
      " 4   country           9993 non-null   object\n",
      " 5   city              9993 non-null   object\n",
      " 6   state             9993 non-null   object\n",
      " 7   postal_code       9993 non-null   int64 \n",
      " 8   region            9993 non-null   object\n",
      " 9   category          9993 non-null   object\n",
      " 10  sub_category      9993 non-null   object\n",
      " 11  product_id        9993 non-null   object\n",
      " 12  cost_price        9993 non-null   int64 \n",
      " 13  list_price        9993 non-null   int64 \n",
      " 14  quantity          9993 non-null   int64 \n",
      " 15  discount_percent  9993 non-null   int64 \n",
      "dtypes: int64(6), object(10)\n",
      "memory usage: 1.3+ MB\n"
     ]
    }
   ],
   "source": [
    "df.info()"
   ]
  },
  {
   "cell_type": "code",
   "execution_count": 214,
   "id": "3ccb1486-492e-4af1-bc86-f72e309b8eb5",
   "metadata": {},
   "outputs": [],
   "source": [
    "df['order_date'] = pd.to_datetime(df['order_date'],format='%d-%m-%Y')"
   ]
  },
  {
   "cell_type": "code",
   "execution_count": 218,
   "id": "91dbf149-1eec-4e89-b39a-a562436156dc",
   "metadata": {},
   "outputs": [
    {
     "data": {
      "text/html": [
       "<div>\n",
       "<style scoped>\n",
       "    .dataframe tbody tr th:only-of-type {\n",
       "        vertical-align: middle;\n",
       "    }\n",
       "\n",
       "    .dataframe tbody tr th {\n",
       "        vertical-align: top;\n",
       "    }\n",
       "\n",
       "    .dataframe thead th {\n",
       "        text-align: right;\n",
       "    }\n",
       "</style>\n",
       "<table border=\"1\" class=\"dataframe\">\n",
       "  <thead>\n",
       "    <tr style=\"text-align: right;\">\n",
       "      <th></th>\n",
       "      <th>order_id</th>\n",
       "      <th>order_date</th>\n",
       "      <th>ship_mode</th>\n",
       "      <th>segment</th>\n",
       "      <th>country</th>\n",
       "      <th>city</th>\n",
       "      <th>state</th>\n",
       "      <th>postal_code</th>\n",
       "      <th>region</th>\n",
       "      <th>category</th>\n",
       "      <th>sub_category</th>\n",
       "      <th>product_id</th>\n",
       "      <th>cost_price</th>\n",
       "      <th>list_price</th>\n",
       "      <th>quantity</th>\n",
       "      <th>discount_percent</th>\n",
       "    </tr>\n",
       "  </thead>\n",
       "  <tbody>\n",
       "    <tr>\n",
       "      <th>0</th>\n",
       "      <td>1</td>\n",
       "      <td>2023-03-01</td>\n",
       "      <td>Second Class</td>\n",
       "      <td>Consumer</td>\n",
       "      <td>United States</td>\n",
       "      <td>Henderson</td>\n",
       "      <td>Kentucky</td>\n",
       "      <td>42420</td>\n",
       "      <td>South</td>\n",
       "      <td>Furniture</td>\n",
       "      <td>Bookcases</td>\n",
       "      <td>FUR-BO-10001798</td>\n",
       "      <td>240</td>\n",
       "      <td>260</td>\n",
       "      <td>2</td>\n",
       "      <td>2</td>\n",
       "    </tr>\n",
       "    <tr>\n",
       "      <th>1</th>\n",
       "      <td>2</td>\n",
       "      <td>2023-08-15</td>\n",
       "      <td>Second Class</td>\n",
       "      <td>Consumer</td>\n",
       "      <td>United States</td>\n",
       "      <td>Henderson</td>\n",
       "      <td>Kentucky</td>\n",
       "      <td>42420</td>\n",
       "      <td>South</td>\n",
       "      <td>Furniture</td>\n",
       "      <td>Chairs</td>\n",
       "      <td>FUR-CH-10000454</td>\n",
       "      <td>600</td>\n",
       "      <td>730</td>\n",
       "      <td>3</td>\n",
       "      <td>3</td>\n",
       "    </tr>\n",
       "    <tr>\n",
       "      <th>2</th>\n",
       "      <td>3</td>\n",
       "      <td>2023-01-10</td>\n",
       "      <td>Second Class</td>\n",
       "      <td>Consumer</td>\n",
       "      <td>United States</td>\n",
       "      <td>Los Angeles</td>\n",
       "      <td>California</td>\n",
       "      <td>90036</td>\n",
       "      <td>West</td>\n",
       "      <td>Office Supplies</td>\n",
       "      <td>Labels</td>\n",
       "      <td>OFF-LA-10000240</td>\n",
       "      <td>10</td>\n",
       "      <td>10</td>\n",
       "      <td>2</td>\n",
       "      <td>5</td>\n",
       "    </tr>\n",
       "    <tr>\n",
       "      <th>3</th>\n",
       "      <td>4</td>\n",
       "      <td>2022-06-18</td>\n",
       "      <td>Standard Class</td>\n",
       "      <td>Consumer</td>\n",
       "      <td>United States</td>\n",
       "      <td>Fort Lauderdale</td>\n",
       "      <td>Florida</td>\n",
       "      <td>33311</td>\n",
       "      <td>South</td>\n",
       "      <td>Furniture</td>\n",
       "      <td>Tables</td>\n",
       "      <td>FUR-TA-10000577</td>\n",
       "      <td>780</td>\n",
       "      <td>960</td>\n",
       "      <td>5</td>\n",
       "      <td>2</td>\n",
       "    </tr>\n",
       "    <tr>\n",
       "      <th>4</th>\n",
       "      <td>5</td>\n",
       "      <td>2022-07-13</td>\n",
       "      <td>Standard Class</td>\n",
       "      <td>Consumer</td>\n",
       "      <td>United States</td>\n",
       "      <td>Fort Lauderdale</td>\n",
       "      <td>Florida</td>\n",
       "      <td>33311</td>\n",
       "      <td>South</td>\n",
       "      <td>Office Supplies</td>\n",
       "      <td>Storage</td>\n",
       "      <td>OFF-ST-10000760</td>\n",
       "      <td>20</td>\n",
       "      <td>20</td>\n",
       "      <td>2</td>\n",
       "      <td>5</td>\n",
       "    </tr>\n",
       "  </tbody>\n",
       "</table>\n",
       "</div>"
      ],
      "text/plain": [
       "   order_id order_date       ship_mode   segment        country  \\\n",
       "0         1 2023-03-01    Second Class  Consumer  United States   \n",
       "1         2 2023-08-15    Second Class  Consumer  United States   \n",
       "2         3 2023-01-10    Second Class  Consumer  United States   \n",
       "3         4 2022-06-18  Standard Class  Consumer  United States   \n",
       "4         5 2022-07-13  Standard Class  Consumer  United States   \n",
       "\n",
       "              city       state  postal_code region         category  \\\n",
       "0        Henderson    Kentucky        42420  South        Furniture   \n",
       "1        Henderson    Kentucky        42420  South        Furniture   \n",
       "2      Los Angeles  California        90036   West  Office Supplies   \n",
       "3  Fort Lauderdale     Florida        33311  South        Furniture   \n",
       "4  Fort Lauderdale     Florida        33311  South  Office Supplies   \n",
       "\n",
       "  sub_category       product_id  cost_price  list_price  quantity  \\\n",
       "0    Bookcases  FUR-BO-10001798         240         260         2   \n",
       "1       Chairs  FUR-CH-10000454         600         730         3   \n",
       "2       Labels  OFF-LA-10000240          10          10         2   \n",
       "3       Tables  FUR-TA-10000577         780         960         5   \n",
       "4      Storage  OFF-ST-10000760          20          20         2   \n",
       "\n",
       "   discount_percent  \n",
       "0                 2  \n",
       "1                 3  \n",
       "2                 5  \n",
       "3                 2  \n",
       "4                 5  "
      ]
     },
     "execution_count": 218,
     "metadata": {},
     "output_type": "execute_result"
    }
   ],
   "source": [
    "df.head()"
   ]
  },
  {
   "cell_type": "code",
   "execution_count": 220,
   "id": "a6b8525c-dcff-491d-a081-27dba1ba2552",
   "metadata": {},
   "outputs": [],
   "source": [
    "df['discount'] = df['list_price']*df['discount_percent']/100"
   ]
  },
  {
   "cell_type": "code",
   "execution_count": 224,
   "id": "e36e0d46-6965-4b70-aafb-cf6893b48c77",
   "metadata": {},
   "outputs": [],
   "source": [
    "df['sales_price'] = df['list_price']-df['discount']"
   ]
  },
  {
   "cell_type": "code",
   "execution_count": 228,
   "id": "0fe5271f-63a6-4812-a685-550dbf18916c",
   "metadata": {},
   "outputs": [],
   "source": [
    "df['profit'] = df['sales_price']-df['cost_price']"
   ]
  },
  {
   "cell_type": "code",
   "execution_count": 234,
   "id": "b157596d-5f8d-467d-99ab-631554aae248",
   "metadata": {},
   "outputs": [],
   "source": [
    "df.drop(['list_price','cost_price','discount_percent'],axis = 1,inplace = True)"
   ]
  },
  {
   "cell_type": "code",
   "execution_count": 236,
   "id": "8ac3c36f-ef38-46fc-91f4-c883a36c59db",
   "metadata": {},
   "outputs": [
    {
     "data": {
      "text/html": [
       "<div>\n",
       "<style scoped>\n",
       "    .dataframe tbody tr th:only-of-type {\n",
       "        vertical-align: middle;\n",
       "    }\n",
       "\n",
       "    .dataframe tbody tr th {\n",
       "        vertical-align: top;\n",
       "    }\n",
       "\n",
       "    .dataframe thead th {\n",
       "        text-align: right;\n",
       "    }\n",
       "</style>\n",
       "<table border=\"1\" class=\"dataframe\">\n",
       "  <thead>\n",
       "    <tr style=\"text-align: right;\">\n",
       "      <th></th>\n",
       "      <th>order_id</th>\n",
       "      <th>order_date</th>\n",
       "      <th>ship_mode</th>\n",
       "      <th>segment</th>\n",
       "      <th>country</th>\n",
       "      <th>city</th>\n",
       "      <th>state</th>\n",
       "      <th>postal_code</th>\n",
       "      <th>region</th>\n",
       "      <th>category</th>\n",
       "      <th>sub_category</th>\n",
       "      <th>product_id</th>\n",
       "      <th>quantity</th>\n",
       "      <th>discount</th>\n",
       "      <th>sales_price</th>\n",
       "      <th>profit</th>\n",
       "    </tr>\n",
       "  </thead>\n",
       "  <tbody>\n",
       "    <tr>\n",
       "      <th>0</th>\n",
       "      <td>1</td>\n",
       "      <td>2023-03-01</td>\n",
       "      <td>Second Class</td>\n",
       "      <td>Consumer</td>\n",
       "      <td>United States</td>\n",
       "      <td>Henderson</td>\n",
       "      <td>Kentucky</td>\n",
       "      <td>42420</td>\n",
       "      <td>South</td>\n",
       "      <td>Furniture</td>\n",
       "      <td>Bookcases</td>\n",
       "      <td>FUR-BO-10001798</td>\n",
       "      <td>2</td>\n",
       "      <td>5.2</td>\n",
       "      <td>254.8</td>\n",
       "      <td>14.8</td>\n",
       "    </tr>\n",
       "    <tr>\n",
       "      <th>1</th>\n",
       "      <td>2</td>\n",
       "      <td>2023-08-15</td>\n",
       "      <td>Second Class</td>\n",
       "      <td>Consumer</td>\n",
       "      <td>United States</td>\n",
       "      <td>Henderson</td>\n",
       "      <td>Kentucky</td>\n",
       "      <td>42420</td>\n",
       "      <td>South</td>\n",
       "      <td>Furniture</td>\n",
       "      <td>Chairs</td>\n",
       "      <td>FUR-CH-10000454</td>\n",
       "      <td>3</td>\n",
       "      <td>21.9</td>\n",
       "      <td>708.1</td>\n",
       "      <td>108.1</td>\n",
       "    </tr>\n",
       "    <tr>\n",
       "      <th>2</th>\n",
       "      <td>3</td>\n",
       "      <td>2023-01-10</td>\n",
       "      <td>Second Class</td>\n",
       "      <td>Consumer</td>\n",
       "      <td>United States</td>\n",
       "      <td>Los Angeles</td>\n",
       "      <td>California</td>\n",
       "      <td>90036</td>\n",
       "      <td>West</td>\n",
       "      <td>Office Supplies</td>\n",
       "      <td>Labels</td>\n",
       "      <td>OFF-LA-10000240</td>\n",
       "      <td>2</td>\n",
       "      <td>0.5</td>\n",
       "      <td>9.5</td>\n",
       "      <td>-0.5</td>\n",
       "    </tr>\n",
       "    <tr>\n",
       "      <th>3</th>\n",
       "      <td>4</td>\n",
       "      <td>2022-06-18</td>\n",
       "      <td>Standard Class</td>\n",
       "      <td>Consumer</td>\n",
       "      <td>United States</td>\n",
       "      <td>Fort Lauderdale</td>\n",
       "      <td>Florida</td>\n",
       "      <td>33311</td>\n",
       "      <td>South</td>\n",
       "      <td>Furniture</td>\n",
       "      <td>Tables</td>\n",
       "      <td>FUR-TA-10000577</td>\n",
       "      <td>5</td>\n",
       "      <td>19.2</td>\n",
       "      <td>940.8</td>\n",
       "      <td>160.8</td>\n",
       "    </tr>\n",
       "    <tr>\n",
       "      <th>4</th>\n",
       "      <td>5</td>\n",
       "      <td>2022-07-13</td>\n",
       "      <td>Standard Class</td>\n",
       "      <td>Consumer</td>\n",
       "      <td>United States</td>\n",
       "      <td>Fort Lauderdale</td>\n",
       "      <td>Florida</td>\n",
       "      <td>33311</td>\n",
       "      <td>South</td>\n",
       "      <td>Office Supplies</td>\n",
       "      <td>Storage</td>\n",
       "      <td>OFF-ST-10000760</td>\n",
       "      <td>2</td>\n",
       "      <td>1.0</td>\n",
       "      <td>19.0</td>\n",
       "      <td>-1.0</td>\n",
       "    </tr>\n",
       "    <tr>\n",
       "      <th>...</th>\n",
       "      <td>...</td>\n",
       "      <td>...</td>\n",
       "      <td>...</td>\n",
       "      <td>...</td>\n",
       "      <td>...</td>\n",
       "      <td>...</td>\n",
       "      <td>...</td>\n",
       "      <td>...</td>\n",
       "      <td>...</td>\n",
       "      <td>...</td>\n",
       "      <td>...</td>\n",
       "      <td>...</td>\n",
       "      <td>...</td>\n",
       "      <td>...</td>\n",
       "      <td>...</td>\n",
       "      <td>...</td>\n",
       "    </tr>\n",
       "    <tr>\n",
       "      <th>9989</th>\n",
       "      <td>9990</td>\n",
       "      <td>2023-02-18</td>\n",
       "      <td>Second Class</td>\n",
       "      <td>Consumer</td>\n",
       "      <td>United States</td>\n",
       "      <td>Miami</td>\n",
       "      <td>Florida</td>\n",
       "      <td>33180</td>\n",
       "      <td>South</td>\n",
       "      <td>Furniture</td>\n",
       "      <td>Furnishings</td>\n",
       "      <td>FUR-FU-10001889</td>\n",
       "      <td>3</td>\n",
       "      <td>1.2</td>\n",
       "      <td>28.8</td>\n",
       "      <td>-1.2</td>\n",
       "    </tr>\n",
       "    <tr>\n",
       "      <th>9990</th>\n",
       "      <td>9991</td>\n",
       "      <td>2023-03-17</td>\n",
       "      <td>Standard Class</td>\n",
       "      <td>Consumer</td>\n",
       "      <td>United States</td>\n",
       "      <td>Costa Mesa</td>\n",
       "      <td>California</td>\n",
       "      <td>92627</td>\n",
       "      <td>West</td>\n",
       "      <td>Furniture</td>\n",
       "      <td>Furnishings</td>\n",
       "      <td>FUR-FU-10000747</td>\n",
       "      <td>2</td>\n",
       "      <td>3.6</td>\n",
       "      <td>86.4</td>\n",
       "      <td>16.4</td>\n",
       "    </tr>\n",
       "    <tr>\n",
       "      <th>9991</th>\n",
       "      <td>9992</td>\n",
       "      <td>2022-08-07</td>\n",
       "      <td>Standard Class</td>\n",
       "      <td>Consumer</td>\n",
       "      <td>United States</td>\n",
       "      <td>Costa Mesa</td>\n",
       "      <td>California</td>\n",
       "      <td>92627</td>\n",
       "      <td>West</td>\n",
       "      <td>Technology</td>\n",
       "      <td>Phones</td>\n",
       "      <td>TEC-PH-10003645</td>\n",
       "      <td>2</td>\n",
       "      <td>5.2</td>\n",
       "      <td>254.8</td>\n",
       "      <td>34.8</td>\n",
       "    </tr>\n",
       "    <tr>\n",
       "      <th>9992</th>\n",
       "      <td>9993</td>\n",
       "      <td>2022-11-19</td>\n",
       "      <td>Standard Class</td>\n",
       "      <td>Consumer</td>\n",
       "      <td>United States</td>\n",
       "      <td>Costa Mesa</td>\n",
       "      <td>California</td>\n",
       "      <td>92627</td>\n",
       "      <td>West</td>\n",
       "      <td>Office Supplies</td>\n",
       "      <td>Papers</td>\n",
       "      <td>OFF-PA-10004041</td>\n",
       "      <td>4</td>\n",
       "      <td>0.9</td>\n",
       "      <td>29.1</td>\n",
       "      <td>-0.9</td>\n",
       "    </tr>\n",
       "    <tr>\n",
       "      <th>9993</th>\n",
       "      <td>9994</td>\n",
       "      <td>2022-07-17</td>\n",
       "      <td>Second Class</td>\n",
       "      <td>Consumer</td>\n",
       "      <td>United States</td>\n",
       "      <td>Westminster</td>\n",
       "      <td>California</td>\n",
       "      <td>92683</td>\n",
       "      <td>West</td>\n",
       "      <td>Office Supplies</td>\n",
       "      <td>Appliances</td>\n",
       "      <td>OFF-AP-10002684</td>\n",
       "      <td>2</td>\n",
       "      <td>7.2</td>\n",
       "      <td>232.8</td>\n",
       "      <td>22.8</td>\n",
       "    </tr>\n",
       "  </tbody>\n",
       "</table>\n",
       "<p>9993 rows × 16 columns</p>\n",
       "</div>"
      ],
      "text/plain": [
       "      order_id order_date       ship_mode   segment        country  \\\n",
       "0            1 2023-03-01    Second Class  Consumer  United States   \n",
       "1            2 2023-08-15    Second Class  Consumer  United States   \n",
       "2            3 2023-01-10    Second Class  Consumer  United States   \n",
       "3            4 2022-06-18  Standard Class  Consumer  United States   \n",
       "4            5 2022-07-13  Standard Class  Consumer  United States   \n",
       "...        ...        ...             ...       ...            ...   \n",
       "9989      9990 2023-02-18    Second Class  Consumer  United States   \n",
       "9990      9991 2023-03-17  Standard Class  Consumer  United States   \n",
       "9991      9992 2022-08-07  Standard Class  Consumer  United States   \n",
       "9992      9993 2022-11-19  Standard Class  Consumer  United States   \n",
       "9993      9994 2022-07-17    Second Class  Consumer  United States   \n",
       "\n",
       "                 city       state  postal_code region         category  \\\n",
       "0           Henderson    Kentucky        42420  South        Furniture   \n",
       "1           Henderson    Kentucky        42420  South        Furniture   \n",
       "2         Los Angeles  California        90036   West  Office Supplies   \n",
       "3     Fort Lauderdale     Florida        33311  South        Furniture   \n",
       "4     Fort Lauderdale     Florida        33311  South  Office Supplies   \n",
       "...               ...         ...          ...    ...              ...   \n",
       "9989            Miami     Florida        33180  South        Furniture   \n",
       "9990       Costa Mesa  California        92627   West        Furniture   \n",
       "9991       Costa Mesa  California        92627   West       Technology   \n",
       "9992       Costa Mesa  California        92627   West  Office Supplies   \n",
       "9993      Westminster  California        92683   West  Office Supplies   \n",
       "\n",
       "     sub_category       product_id  quantity  discount  sales_price  profit  \n",
       "0       Bookcases  FUR-BO-10001798         2       5.2        254.8    14.8  \n",
       "1          Chairs  FUR-CH-10000454         3      21.9        708.1   108.1  \n",
       "2          Labels  OFF-LA-10000240         2       0.5          9.5    -0.5  \n",
       "3          Tables  FUR-TA-10000577         5      19.2        940.8   160.8  \n",
       "4         Storage  OFF-ST-10000760         2       1.0         19.0    -1.0  \n",
       "...           ...              ...       ...       ...          ...     ...  \n",
       "9989  Furnishings  FUR-FU-10001889         3       1.2         28.8    -1.2  \n",
       "9990  Furnishings  FUR-FU-10000747         2       3.6         86.4    16.4  \n",
       "9991       Phones  TEC-PH-10003645         2       5.2        254.8    34.8  \n",
       "9992       Papers  OFF-PA-10004041         4       0.9         29.1    -0.9  \n",
       "9993   Appliances  OFF-AP-10002684         2       7.2        232.8    22.8  \n",
       "\n",
       "[9993 rows x 16 columns]"
      ]
     },
     "execution_count": 236,
     "metadata": {},
     "output_type": "execute_result"
    }
   ],
   "source": [
    "df"
   ]
  },
  {
   "cell_type": "code",
   "execution_count": 238,
   "id": "68bc3ebe-37d2-4243-9ab8-a3b167fb54fd",
   "metadata": {},
   "outputs": [],
   "source": [
    "import sqlalchemy as sal\n",
    "## !pip install PyMySQL"
   ]
  },
  {
   "cell_type": "code",
   "execution_count": 264,
   "id": "e4764353-994d-4871-9176-836c76d3282f",
   "metadata": {},
   "outputs": [],
   "source": [
    "user     = 'root'\n",
    "password = 'naunidh'\n",
    "host     = 'localhost'\n",
    "port     = '3306'\n",
    "database = 'com' \n",
    "\n",
    "engine = sal.create_engine(f\"mysql+pymysql://{user}:{password}@{host}:{port}/{database}\")"
   ]
  },
  {
   "cell_type": "code",
   "execution_count": 274,
   "id": "9fd4189e-6344-4cf4-af79-bef1fea82334",
   "metadata": {},
   "outputs": [
    {
     "data": {
      "text/plain": [
       "9993"
      ]
     },
     "execution_count": 274,
     "metadata": {},
     "output_type": "execute_result"
    }
   ],
   "source": [
    "df.to_sql('orders',con = engine, index=False,if_exists = 'replace')"
   ]
  },
  {
   "cell_type": "code",
   "execution_count": 272,
   "id": "2f608698-c5fc-4674-89d2-fea1bdc10ce6",
   "metadata": {},
   "outputs": [
    {
     "data": {
      "text/plain": [
       "1862"
      ]
     },
     "execution_count": 272,
     "metadata": {},
     "output_type": "execute_result"
    }
   ],
   "source": [
    "df['product_id'].nunique()"
   ]
  },
  {
   "cell_type": "code",
   "execution_count": null,
   "id": "6e2e546b-92c2-49c8-929e-0d43c6addcfa",
   "metadata": {},
   "outputs": [],
   "source": []
  },
  {
   "cell_type": "code",
   "execution_count": null,
   "id": "383a7b3b-9a17-49b4-bc87-d1a9b16b547a",
   "metadata": {},
   "outputs": [],
   "source": []
  },
  {
   "cell_type": "code",
   "execution_count": null,
   "id": "a8ad3f19-a66f-4f92-823d-b73047ec2501",
   "metadata": {},
   "outputs": [],
   "source": []
  }
 ],
 "metadata": {
  "kernelspec": {
   "display_name": "Python 3 (ipykernel)",
   "language": "python",
   "name": "python3"
  },
  "language_info": {
   "codemirror_mode": {
    "name": "ipython",
    "version": 3
   },
   "file_extension": ".py",
   "mimetype": "text/x-python",
   "name": "python",
   "nbconvert_exporter": "python",
   "pygments_lexer": "ipython3",
   "version": "3.12.4"
  }
 },
 "nbformat": 4,
 "nbformat_minor": 5
}
